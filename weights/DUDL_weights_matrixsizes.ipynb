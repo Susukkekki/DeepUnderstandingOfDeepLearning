{
 "cells": [
  {
   "attachments": {},
   "cell_type": "markdown",
   "metadata": {
    "id": "bhWV8oes-wKR"
   },
   "source": [
    "# COURSE: A deep understanding of deep learning\n",
    "## SECTION: Weight inits and investigations\n",
    "### LECTURE: Explanation of weight matrix sizes\n",
    "#### TEACHER: Mike X Cohen, sincxpress.com\n",
    "##### COURSE URL: udemy.com/course/deeplearning_x/?couponCode=202305"
   ]
  },
  {
   "attachments": {},
   "cell_type": "markdown",
   "metadata": {},
   "source": [
    "[![Open in Colab](https://colab.research.google.com/assets/colab-badge.svg)](https://colab.research.google.com/github/Susukkekki/DeepUnderstandingOfDeepLearning/blob/main/weights/DUDL_weights_matrixsizes.ipynb)"
   ]
  },
  {
   "cell_type": "code",
   "execution_count": null,
   "metadata": {
    "id": "j7-LiwqUMGYL",
    "vscode": {
     "languageId": "python"
    }
   },
   "outputs": [],
   "source": [
    "# import libraries\n",
    "import torch\n",
    "import torch.nn as nn"
   ]
  },
  {
   "attachments": {},
   "cell_type": "markdown",
   "metadata": {
    "id": "y7sPkqG8ATnz"
   },
   "source": [
    "# Create a model and inspect its weight matrices sizes"
   ]
  },
  {
   "cell_type": "code",
   "execution_count": null,
   "metadata": {
    "id": "krQeh5wYMNla",
    "vscode": {
     "languageId": "python"
    }
   },
   "outputs": [],
   "source": [
    "# build a model\n",
    "aModel = nn.Sequential(\n",
    "    nn.Linear(10,14),  # input layer\n",
    "    nn.Linear(14,19),  # hidden layer\n",
    "    nn.Linear(19,8),   # output layer\n",
    "      )\n",
    "\n",
    "aModel"
   ]
  },
  {
   "cell_type": "code",
   "execution_count": null,
   "metadata": {
    "id": "YTHj0h7GEVMq",
    "vscode": {
     "languageId": "python"
    }
   },
   "outputs": [],
   "source": [
    "# print the sizes of the weights matrices in each layer\n",
    "for i in range(len(aModel)):\n",
    "  print( aModel[i].weight.shape )"
   ]
  },
  {
   "attachments": {},
   "cell_type": "markdown",
   "metadata": {
    "id": "DGMwd5TCAZwr"
   },
   "source": [
    "# Build a model with inconsistent layer shapes"
   ]
  },
  {
   "cell_type": "code",
   "execution_count": null,
   "metadata": {
    "id": "sEMW2hT1_aTm",
    "vscode": {
     "languageId": "python"
    }
   },
   "outputs": [],
   "source": [
    "M2 = nn.Sequential(\n",
    "    nn.Linear(10,14),  # input layer\n",
    "    nn.Linear(14,9),   # hidden layer\n",
    "    nn.Linear(19,8),   # output layer\n",
    "      )\n",
    "\n",
    "for i in range(len(M2)):\n",
    "  print( M2[i].weight.shape )"
   ]
  },
  {
   "attachments": {},
   "cell_type": "markdown",
   "metadata": {
    "id": "wwhD7qwnAbUz"
   },
   "source": [
    "# Test both models with fake data"
   ]
  },
  {
   "cell_type": "code",
   "execution_count": null,
   "metadata": {
    "id": "Gux-Zj2NAA60",
    "vscode": {
     "languageId": "python"
    }
   },
   "outputs": [],
   "source": [
    "# generate the data\n",
    "nsamples = 5\n",
    "nfeatures = 10\n",
    "\n",
    "fakedata = torch.randn(nsamples,nfeatures)"
   ]
  },
  {
   "cell_type": "code",
   "execution_count": null,
   "metadata": {
    "id": "HeYXIgQEAf03",
    "vscode": {
     "languageId": "python"
    }
   },
   "outputs": [],
   "source": [
    "# test the first model\n",
    "\n",
    "# does the size of the output make sense?\n",
    "aModel(fakedata).shape"
   ]
  },
  {
   "cell_type": "code",
   "execution_count": null,
   "metadata": {
    "id": "DutcYnW2AgA3",
    "vscode": {
     "languageId": "python"
    }
   },
   "outputs": [],
   "source": [
    "# test the second model\n",
    "\n",
    "# does the size of the output make sense?\n",
    "M2(fakedata).shape"
   ]
  },
  {
   "cell_type": "code",
   "execution_count": null,
   "metadata": {
    "id": "_mSUBBkdAgGK",
    "vscode": {
     "languageId": "python"
    }
   },
   "outputs": [],
   "source": []
  }
 ],
 "metadata": {
  "colab": {
   "authorship_tag": "ABX9TyP9SNH3ckSFTyepnrN3b2L4",
   "collapsed_sections": [],
   "name": "DUDL_weights_matrixsizes.ipynb",
   "provenance": [
    {
     "file_id": "10_geQnah5AvMsm8VDAQwNPhypOXradar",
     "timestamp": 1619420451667
    },
    {
     "file_id": "1FtQ99beHYcDFDywLdaPgFm-KjBeI8PvD",
     "timestamp": 1615877547147
    }
   ]
  },
  "kernelspec": {
   "display_name": "Python 3",
   "name": "python3"
  }
 },
 "nbformat": 4,
 "nbformat_minor": 0
}
