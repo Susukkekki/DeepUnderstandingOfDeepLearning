{
 "cells": [
  {
   "attachments": {},
   "cell_type": "markdown",
   "metadata": {
    "id": "bhWV8oes-wKR"
   },
   "source": [
    "# COURSE: A deep understanding of deep learning\n",
    "## SECTION: Regularization\n",
    "### LECTURE: Dropout regularization in practice\n",
    "#### TEACHER: Mike X Cohen, sincxpress.com\n",
    "##### COURSE URL: udemy.com/course/deeplearning_x/?couponCode=202305"
   ]
  },
  {
   "attachments": {},
   "cell_type": "markdown",
   "metadata": {},
   "source": [
    "[![Open in Colab](https://colab.research.google.com/assets/colab-badge.svg)](https://colab.research.google.com/github/Susukkekki/DeepUnderstandingOfDeepLearning/blob/main/regularization/DUDL_regular_dropout.ipynb)"
   ]
  },
  {
   "cell_type": "code",
   "execution_count": 1,
   "metadata": {
    "id": "YeuAheYyhdZw"
   },
   "outputs": [],
   "source": [
    "# import libraries\n",
    "import torch\n",
    "import torch.nn as nn\n",
    "import torch.nn.functional as F\n",
    "\n",
    "import numpy as np\n",
    "import matplotlib.pyplot as plt\n",
    "import matplotlib_inline.backend_inline\n",
    "matplotlib_inline.backend_inline.set_matplotlib_formats('svg')\n",
    "\n",
    "from sklearn.model_selection import train_test_split\n",
    "from torch.utils.data import DataLoader,TensorDataset"
   ]
  },
  {
   "attachments": {},
   "cell_type": "markdown",
   "metadata": {
    "id": "iwMNQTch9b2M"
   },
   "source": [
    "# Create the data"
   ]
  },
  {
   "cell_type": "code",
   "execution_count": 2,
   "metadata": {
    "id": "en1pAvDIfo1f"
   },
   "outputs": [
    {
     "data": {
      "image/png": "[encoded data removed]",
      "text/plain": [
       "<Figure size 360x360 with 1 Axes>"
      ]
     },
     "metadata": {
      "needs_background": "light"
     },
     "output_type": "display_data"
    }
   ],
   "source": [
    "# create data\n",
    "\n",
    "nPerClust = 200\n",
    "\n",
    "th = np.linspace(0,4*np.pi,nPerClust)\n",
    "r1 = 10\n",
    "r2 = 15\n",
    "\n",
    "# generate data\n",
    "a = [ r1*np.cos(th) + np.random.randn(nPerClust)*3 ,\n",
    "      r1*np.sin(th) + np.random.randn(nPerClust) ]\n",
    "b = [ r2*np.cos(th) + np.random.randn(nPerClust) ,\n",
    "      r2*np.sin(th) + np.random.randn(nPerClust)*3 ]\n",
    "\n",
    "# true labels\n",
    "labels_np = np.vstack((np.zeros((nPerClust,1)),np.ones((nPerClust,1))))\n",
    "\n",
    "# concatanate into a matrix\n",
    "data_np = np.hstack((a,b)).T\n",
    "\n",
    "# convert to a pytorch tensor\n",
    "data = torch.tensor(data_np).float()\n",
    "labels = torch.tensor(labels_np).float()\n",
    "\n",
    "# show the data\n",
    "fig = plt.figure(figsize=(5,5))\n",
    "plt.plot(data[np.where(labels==0)[0],0],data[np.where(labels==0)[0],1],'bs')\n",
    "plt.plot(data[np.where(labels==1)[0],0],data[np.where(labels==1)[0],1],'ko')\n",
    "plt.title(\"The qwerties' doughnuts!\")\n",
    "plt.xlabel('qwerty dimension 1')\n",
    "plt.ylabel('qwerty dimension 2')\n",
    "plt.show()"
   ]
  },
  {
   "attachments": {},
   "cell_type": "markdown",
   "metadata": {
    "id": "S-GvjKA8AesK"
   },
   "source": [
    "# Separate the data into DataLoaders"
   ]
  },
  {
   "cell_type": "code",
   "execution_count": 3,
   "metadata": {
    "id": "OVrlOHYIAg0r"
   },
   "outputs": [],
   "source": [
    "# use scikitlearn to split the data\n",
    "train_data,test_data, train_labels,test_labels = train_test_split(data, labels, test_size=.2)\n",
    "\n",
    "\n",
    "# then convert them into PyTorch Datasets (note: already converted to tensors)\n",
    "train_data = TensorDataset(train_data,train_labels)\n",
    "test_data  = TensorDataset(test_data,test_labels)\n",
    "\n",
    "\n",
    "# finally, translate into dataloader objects\n",
    "batchsize    = 16 #int(train_data.tensors[0].shape[0]/4) -- Hard-coding is better to avoid huge batches!\n",
    "train_loader = DataLoader(train_data,batch_size=batchsize,shuffle=True)\n",
    "test_loader  = DataLoader(test_data,batch_size=test_data.tensors[0].shape[0]) # how big should these batches be??"
   ]
  },
  {
   "attachments": {},
   "cell_type": "markdown",
   "metadata": {
    "id": "kx2OI7PgQ9xx"
   },
   "source": [
    "# Create the model"
   ]
  },
  {
   "cell_type": "code",
   "execution_count": 4,
   "metadata": {
    "id": "r0qe1q9nRwPG"
   },
   "outputs": [],
   "source": [
    "class theModelClass(nn.Module):\n",
    "  def __init__(self,dropoutRate):\n",
    "    super().__init__()\n",
    "\n",
    "    ### layers\n",
    "    self.input  = nn.Linear(  2,128)\n",
    "    self.hidden = nn.Linear(128,128)\n",
    "    self.output = nn.Linear(128, 1)\n",
    "\n",
    "    # parameters\n",
    "    self.dr = dropoutRate\n",
    "\n",
    "  # forward pass\n",
    "  def forward(self,x):\n",
    "\n",
    "    # pass the data through the input layer\n",
    "    x = F.relu( self.input(x) )\n",
    "\n",
    "    # dropout after input layer\n",
    "    x = F.dropout(x,p=self.dr,training=self.training) # training=self.training means to turn off during eval mode\n",
    "    \n",
    "    # pass the data through the hidden layer\n",
    "    x = F.relu( self.hidden(x) )\n",
    "\n",
    "    # dropout after hidden layer\n",
    "    x = F.dropout(x,p=self.dr,training=self.training) # training=self.training means to turn off during eval mode\n",
    "    \n",
    "    # output layer\n",
    "    x = self.output(x)\n",
    "    # no dropout here!!\n",
    "    return x"
   ]
  },
  {
   "cell_type": "code",
   "execution_count": 5,
   "metadata": {
    "id": "WZnfbIcOTfzm"
   },
   "outputs": [
    {
     "data": {
      "text/plain": [
       "tensor([[-0.0152],\n",
       "        [-0.0104],\n",
       "        [-0.0975],\n",
       "        [ 0.0680],\n",
       "        [ 0.0397],\n",
       "        [ 0.0645],\n",
       "        [ 0.2588],\n",
       "        [ 0.0180],\n",
       "        [-0.0083],\n",
       "        [ 0.0580]], grad_fn=<AddmmBackward0>)"
      ]
     },
     "execution_count": 5,
     "metadata": {},
     "output_type": "execute_result"
    }
   ],
   "source": [
    "# test the model\n",
    "tmpnet = theModelClass(.25)\n",
    "\n",
    "# run some random data through\n",
    "tmpdata = torch.randn((10,2))\n",
    "yhat = tmpnet(tmpdata)\n",
    "yhat"
   ]
  },
  {
   "attachments": {},
   "cell_type": "markdown",
   "metadata": {
    "id": "v0JMIGb1iV_9"
   },
   "source": [
    "# Functions to create and train the net"
   ]
  },
  {
   "cell_type": "code",
   "execution_count": 6,
   "metadata": {
    "id": "POaJJc3mh329"
   },
   "outputs": [],
   "source": [
    "def createANewModel(dropoutrate):\n",
    "\n",
    "  # grab an instance of the model class\n",
    "  ANNQC = theModelClass(dropoutrate)\n",
    "\n",
    "  # loss function\n",
    "  lossfun = nn.BCEWithLogitsLoss()\n",
    "\n",
    "  # optimizer\n",
    "  optimizer = torch.optim.SGD(ANNQC.parameters(),lr=.002)\n",
    "\n",
    "  return ANNQC,lossfun,optimizer"
   ]
  },
  {
   "cell_type": "code",
   "execution_count": 7,
   "metadata": {
    "id": "cVD1nFTli7TO"
   },
   "outputs": [],
   "source": [
    "# train the model\n",
    "\n",
    "# training parameter\n",
    "numepochs = 1000\n",
    "\n",
    "# NOTE: this time, the model, lossfun, and optimizer are inputs into the function!\n",
    "def trainTheModel(ANNQC,lossfun,optimizer):\n",
    "\n",
    "  # initialize accuracies as empties (not storing losses here)\n",
    "  trainAcc = []\n",
    "  testAcc  = []\n",
    "\n",
    "\n",
    "  # loop over epochs\n",
    "  for epochi in range(numepochs):\n",
    "\n",
    "    # switch training mode on (is this the right place for this code??)\n",
    "    ANNQC.train() \n",
    "\n",
    "    # loop over training data batches\n",
    "    batchAcc = []\n",
    "    for X,y in train_loader:\n",
    "\n",
    "      # forward pass and loss\n",
    "      yHat = ANNQC(X)\n",
    "      loss = lossfun(yHat,y)\n",
    "      \n",
    "      # backprop\n",
    "      optimizer.zero_grad()\n",
    "      loss.backward()\n",
    "      optimizer.step()\n",
    "\n",
    "      # compute training accuracy just for this batch\n",
    "      batchAcc.append( 100*torch.mean(((yHat>0)==y).float()).item() )\n",
    "    # end of batch loop...\n",
    "\n",
    "    # now that we've trained through the batches, get their average training accuracy\n",
    "    trainAcc.append( np.mean(batchAcc) )\n",
    "\n",
    "    # test accuracy\n",
    "    ANNQC.eval() # switch training off\n",
    "    X,y = next(iter(test_loader)) # extract X,y from test dataloader\n",
    "    yHat = ANNQC(X)\n",
    "    testAcc.append( 100*torch.mean(((yHat>0)==y).float()).item() )\n",
    "  \n",
    "  # function output\n",
    "  return trainAcc,testAcc\n"
   ]
  },
  {
   "attachments": {},
   "cell_type": "markdown",
   "metadata": {
    "id": "2FHXO7mRRCMg"
   },
   "source": [
    "# Test the model"
   ]
  },
  {
   "cell_type": "code",
   "execution_count": 8,
   "metadata": {
    "id": "vXku7xIdcu7Y"
   },
   "outputs": [],
   "source": [
    "# create a model\n",
    "dropoutrate = .0\n",
    "ANNQC,lossfun,optimizer = createANewModel(dropoutrate)\n",
    "\n",
    "# train the model (note the inputs!)\n",
    "trainAcc,testAcc = trainTheModel(ANNQC,lossfun,optimizer)"
   ]
  },
  {
   "cell_type": "code",
   "execution_count": 9,
   "metadata": {
    "id": "vgQVV1Ppo_I8"
   },
   "outputs": [],
   "source": [
    "# create a 1D smoothing filter\n",
    "def smooth(x,k=5):\n",
    "  return np.convolve(x,np.ones(k)/k,mode='same')"
   ]
  },
  {
   "cell_type": "code",
   "execution_count": 10,
   "metadata": {
    "id": "JYouZAY4i3jM"
   },
   "outputs": [
    {
     "data": {
      "image/png": "[encoded data removed]",
      "text/plain": [
       "<Figure size 720x360 with 1 Axes>"
      ]
     },
     "metadata": {
      "needs_background": "light"
     },
     "output_type": "display_data"
    }
   ],
   "source": [
    "# plot the results\n",
    "fig = plt.figure(figsize=(10,5))\n",
    "\n",
    "plt.plot(smooth(trainAcc),'bs-')\n",
    "plt.plot(smooth(testAcc),'ro-')\n",
    "plt.xlabel('Epochs')\n",
    "plt.ylabel('Accuracy (%)')\n",
    "plt.legend(['Train','Test'])\n",
    "plt.title('Dropout rate = %g'%dropoutrate)\n",
    "\n",
    "plt.show()"
   ]
  },
  {
   "attachments": {},
   "cell_type": "markdown",
   "metadata": {
    "id": "1QPkAF5whuTp"
   },
   "source": [
    "# Now for the experiment!"
   ]
  },
  {
   "cell_type": "code",
   "execution_count": 11,
   "metadata": {
    "id": "aLGPKiXKQCpE"
   },
   "outputs": [],
   "source": [
    "# run an experiment (note: takes ~3.5 mins)\n",
    "\n",
    "dropoutRates = np.arange(10)/10\n",
    "results = np.zeros((len(dropoutRates),2))\n",
    "\n",
    "for di in range(len(dropoutRates)):\n",
    "\n",
    "  # create and train the model\n",
    "  ANNQC,lossfun,optimizer = createANewModel(dropoutRates[di])\n",
    "  trainAcc,testAcc = trainTheModel(ANNQC,lossfun,optimizer)\n",
    "\n",
    "  # store accuracies from last 100 epochs\n",
    "  results[di,0] = np.mean(trainAcc[-100:])\n",
    "  results[di,1] = np.mean(testAcc[-100:])\n"
   ]
  },
  {
   "cell_type": "code",
   "execution_count": 12,
   "metadata": {
    "id": "mPLChql1ZTf7"
   },
   "outputs": [
    {
     "data": {
      "image/png": "[encoded data removed]",
      "text/plain": [
       "<Figure size 1080x360 with 2 Axes>"
      ]
     },
     "metadata": {
      "needs_background": "light"
     },
     "output_type": "display_data"
    }
   ],
   "source": [
    "# plot the experiment results\n",
    "fig,ax = plt.subplots(1,2,figsize=(15,5))\n",
    "\n",
    "ax[0].plot(dropoutRates,results,'o-')\n",
    "ax[0].set_xlabel('Dropout proportion')\n",
    "ax[0].set_ylabel('Average accuracy')\n",
    "ax[0].legend(['Train','Test'])\n",
    "\n",
    "ax[1].plot(dropoutRates,-np.diff(results,axis=1),'o-')\n",
    "ax[1].plot([0,.9],[0,0],'k--')\n",
    "ax[1].set_xlabel('Dropout proportion')\n",
    "ax[1].set_ylabel('Train-test difference (acc%)')\n",
    "\n",
    "plt.show()"
   ]
  },
  {
   "cell_type": "code",
   "execution_count": null,
   "metadata": {
    "id": "eVXa_1zZkvbm"
   },
   "outputs": [],
   "source": []
  },
  {
   "attachments": {},
   "cell_type": "markdown",
   "metadata": {
    "id": "jjvdKsrdZ4ka"
   },
   "source": [
    "# Additional explorations"
   ]
  },
  {
   "cell_type": "code",
   "execution_count": null,
   "metadata": {
    "id": "5EPeV1KZZ42b"
   },
   "outputs": [],
   "source": [
    "# 1) Explore the effects of the smoothing parameter ('k' in the smooth() function). How much smoothing is \"too much\"? \n",
    "#    Note that this is a subjective judgment; the goal here is to gain some familiarity with smoothing filters.\n",
    "# \n",
    "# 2) Dropout wasn't too impressive here. Perhaps it would be more helpful with a different number of nodes in the hidden\n",
    "#    layer? Try running the experiment again using half as many hidden nodes, and twice as many nodes. Tip: take screenshots\n",
    "#    of each result to compare the three runs.\n",
    "# "
   ]
  }
 ],
 "metadata": {
  "colab": {
   "authorship_tag": "ABX9TyNMQ4p8+ijHgLze61dmMvlO",
   "collapsed_sections": [],
   "name": "DUDL_regular_dropout.ipynb",
   "provenance": [
    {
     "file_id": "17KCLWj5_rIPAJqSQ1dJFAkSrJ7ctDwne",
     "timestamp": 1616945891013
    },
    {
     "file_id": "1bv1_y32e3KEExFKKlPfC3rpw1JxmBr8H",
     "timestamp": 1616941708388
    },
    {
     "file_id": "1GMq8u7KyHB2AE7Teyls9gK1T01OduQSn",
     "timestamp": 1616697516760
    },
    {
     "file_id": "1Ui3kyHim-e0XLgDs2mkBxVlYg7TKYtcg",
     "timestamp": 1616615469755
    },
    {
     "file_id": "1YpHocGI4rApOxIBb1ZghCU5L-hFnv4CK",
     "timestamp": 1616608248670
    }
   ]
  },
  "kernelspec": {
   "display_name": "Python 3",
   "name": "python3"
  },
  "language_info": {
   "codemirror_mode": {
    "name": "ipython",
    "version": 3
   },
   "file_extension": ".py",
   "mimetype": "text/x-python",
   "name": "python",
   "nbconvert_exporter": "python",
   "pygments_lexer": "ipython3",
   "version": "3.10.11"
  }
 },
 "nbformat": 4,
 "nbformat_minor": 0
}
