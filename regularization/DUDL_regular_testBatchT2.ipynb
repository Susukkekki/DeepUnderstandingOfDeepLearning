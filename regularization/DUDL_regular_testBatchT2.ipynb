{
 "cells": [
  {
   "attachments": {},
   "cell_type": "markdown",
   "metadata": {
    "id": "bhWV8oes-wKR"
   },
   "source": [
    "# COURSE: A deep understanding of deep learning\n",
    "## SECTION: Regularization\n",
    "### LECTURE: The importance of equal batch sizes\n",
    "#### TEACHER: Mike X Cohen, sincxpress.com\n",
    "##### COURSE URL: udemy.com/course/deeplearning_x/?couponCode=202305"
   ]
  },
  {
   "attachments": {},
   "cell_type": "markdown",
   "metadata": {},
   "source": [
    "[![Open in Colab](https://colab.research.google.com/assets/colab-badge.svg)](https://colab.research.google.com/github/Susukkekki/DeepUnderstandingOfDeepLearning/blob/main/regularization/DUDL_regular_testBatchT2.ipynb)"
   ]
  },
  {
   "cell_type": "code",
   "execution_count": 1,
   "metadata": {
    "id": "YeuAheYyhdZw"
   },
   "outputs": [],
   "source": [
    "# import libraries\n",
    "import torch\n",
    "import torch.nn as nn\n",
    "import torch.nn.functional as F\n",
    "\n",
    "import numpy as np\n",
    "import matplotlib.pyplot as plt\n",
    "import matplotlib_inline.backend_inline\n",
    "matplotlib_inline.backend_inline.set_matplotlib_formats('svg')\n",
    "\n",
    "from sklearn.model_selection import train_test_split\n",
    "from torch.utils.data import DataLoader,TensorDataset"
   ]
  },
  {
   "cell_type": "code",
   "execution_count": 2,
   "metadata": {
    "id": "en1pAvDIfo1f"
   },
   "outputs": [
    {
     "data": {
      "image/png": "[encoded data removed]",
      "text/plain": [
       "<Figure size 360x360 with 1 Axes>"
      ]
     },
     "metadata": {
      "needs_background": "light"
     },
     "output_type": "display_data"
    }
   ],
   "source": [
    "# create data\n",
    "\n",
    "nPerClust = 200\n",
    "\n",
    "th = np.linspace(0,4*np.pi,nPerClust)\n",
    "r1 = 10\n",
    "r2 = 15\n",
    "\n",
    "# generate data\n",
    "a = [ r1*np.cos(th) + np.random.randn(nPerClust)*3 ,\n",
    "      r1*np.sin(th) + np.random.randn(nPerClust) ]\n",
    "b = [ r2*np.cos(th) + np.random.randn(nPerClust) ,\n",
    "      r2*np.sin(th) + np.random.randn(nPerClust)*3 ]\n",
    "\n",
    "# true labels\n",
    "labels_np = np.vstack((np.zeros((nPerClust,1)),np.ones((nPerClust,1))))\n",
    "\n",
    "# concatanate into a matrix\n",
    "data_np = np.hstack((a,b)).T\n",
    "\n",
    "# convert to a pytorch tensor\n",
    "data = torch.tensor(data_np).float()\n",
    "labels = torch.tensor(labels_np).float()\n",
    "\n",
    "# show the data\n",
    "fig = plt.figure(figsize=(5,5))\n",
    "plt.plot(data[np.where(labels==0)[0],0],data[np.where(labels==0)[0],1],'bs')\n",
    "plt.plot(data[np.where(labels==1)[0],0],data[np.where(labels==1)[0],1],'ko')\n",
    "plt.title(\"The qwerties' doughnuts!\")\n",
    "plt.xlabel('qwerty dimension 1')\n",
    "plt.ylabel('qwerty dimension 2')\n",
    "plt.show()"
   ]
  },
  {
   "attachments": {},
   "cell_type": "markdown",
   "metadata": {
    "id": "S-GvjKA8AesK"
   },
   "source": [
    "# Separate the data into DataLoaders"
   ]
  },
  {
   "cell_type": "code",
   "execution_count": 3,
   "metadata": {
    "id": "OVrlOHYIAg0r"
   },
   "outputs": [],
   "source": [
    "# use scikitlearn to split the data\n",
    "train_data,test_data, train_labels,test_labels = train_test_split(data, labels, test_size=.1)\n",
    "\n",
    "\n",
    "# then convert them into PyTorch Datasets (note: already converted to tensors)\n",
    "train_data = TensorDataset(train_data,train_labels)\n",
    "test_data  = TensorDataset(test_data,test_labels)\n",
    "\n",
    "\n",
    "# finally, translate into dataloader objects\n",
    "train_batchsize = 16\n",
    "test_batchsize  = test_data.tensors[0].shape[0]-2\n",
    "train_loader = DataLoader(train_data,batch_size=train_batchsize,shuffle=True,drop_last=True)\n",
    "test_loader  = DataLoader(test_data,batch_size=test_batchsize)"
   ]
  },
  {
   "cell_type": "code",
   "execution_count": 4,
   "metadata": {
    "id": "VMP8h16StbgK"
   },
   "outputs": [
    {
     "name": "stdout",
     "output_type": "stream",
     "text": [
      "torch.Size([38, 2]) torch.Size([38, 1])\n",
      "torch.Size([2, 2]) torch.Size([2, 1])\n"
     ]
    }
   ],
   "source": [
    "# check sizes of data batches\n",
    "for X,y in test_loader:\n",
    "  print(X.shape,y.shape)"
   ]
  },
  {
   "attachments": {},
   "cell_type": "markdown",
   "metadata": {
    "id": "kx2OI7PgQ9xx"
   },
   "source": [
    "# Model stuff"
   ]
  },
  {
   "cell_type": "code",
   "execution_count": 5,
   "metadata": {
    "id": "r0qe1q9nRwPG"
   },
   "outputs": [],
   "source": [
    "class theModelClass(nn.Module):\n",
    "  def __init__(self):\n",
    "    super().__init__()\n",
    "\n",
    "    ### layers\n",
    "    self.input  = nn.Linear(  2,128)\n",
    "    self.hidden = nn.Linear(128,128)\n",
    "    self.output = nn.Linear(128, 1)\n",
    "\n",
    "  # forward pass\n",
    "  def forward(self,x):\n",
    "    x = F.relu( self.input(x) )\n",
    "    x = F.relu( self.hidden(x) )\n",
    "    x = self.output(x)\n",
    "    return x"
   ]
  },
  {
   "cell_type": "code",
   "execution_count": 6,
   "metadata": {
    "id": "v0JMIGb1iV_9"
   },
   "outputs": [],
   "source": [
    "# a function that creates the ANN model\n",
    "\n",
    "def createANewModel():\n",
    "\n",
    "  # grab an instance of the model class\n",
    "  ANNQC = theModelClass()\n",
    "\n",
    "  # loss function\n",
    "  lossfun = nn.BCEWithLogitsLoss()\n",
    "\n",
    "  # optimizer\n",
    "  optimizer = torch.optim.SGD(ANNQC.parameters(),lr=.01)\n",
    "\n",
    "  return ANNQC,lossfun,optimizer"
   ]
  },
  {
   "cell_type": "code",
   "execution_count": 7,
   "metadata": {
    "id": "cVD1nFTli7TO"
   },
   "outputs": [],
   "source": [
    "# train the model\n",
    "\n",
    "# global parameter\n",
    "numepochs = 500\n",
    "\n",
    "# NOTE: this time, the model, lossfun, and optimizer are inputs into the function!\n",
    "def trainTheModel(ANNQC,lossfun,optimizer):\n",
    "\n",
    "  # initialize accuracies as empties (not storing losses here)\n",
    "  trainAcc = []\n",
    "  testAcc  = []\n",
    "\n",
    "  # loop over epochs\n",
    "  for epochi in range(numepochs):\n",
    "\n",
    "    # loop over training data batches\n",
    "    batchAcc = []\n",
    "    for X,y in train_loader:\n",
    "\n",
    "      # forward pass and loss\n",
    "      yHat = ANNQC(X)\n",
    "      loss = lossfun(yHat,y)\n",
    "      \n",
    "      # backprop\n",
    "      optimizer.zero_grad()\n",
    "      loss.backward()\n",
    "      optimizer.step()\n",
    "\n",
    "      # compute training accuracy just for this batch\n",
    "      batchAcc.append( 100*torch.mean(((yHat>0)==y).float()).item() )\n",
    "    # end of batch loop...\n",
    "\n",
    "    # now that we've trained through the batches, get their average training accuracy\n",
    "    trainAcc.append( np.mean(batchAcc) )\n",
    "\n",
    "    # test accuracy (NOTE: testing in batches!)\n",
    "    tstacc = []\n",
    "    for X,y in test_loader:\n",
    "      yHat = ANNQC(X)\n",
    "      tstacc.append( 100*torch.mean(((yHat>0) == y).float()).item() )\n",
    "    # now get the average accuracy over test-batches\n",
    "    testAcc.append(np.mean(tstacc))\n",
    "  \n",
    "  # function output\n",
    "  return trainAcc,testAcc\n"
   ]
  },
  {
   "attachments": {},
   "cell_type": "markdown",
   "metadata": {
    "id": "2FHXO7mRRCMg"
   },
   "source": [
    "# Application"
   ]
  },
  {
   "cell_type": "code",
   "execution_count": 12,
   "metadata": {
    "id": "vXku7xIdcu7Y"
   },
   "outputs": [],
   "source": [
    "# create a model\n",
    "ANNQC,lossfun,optimizer = createANewModel()\n",
    "\n",
    "# train the model (note the inputs!)\n",
    "trainAcc,testAcc = trainTheModel(ANNQC,lossfun,optimizer)"
   ]
  },
  {
   "cell_type": "code",
   "execution_count": 13,
   "metadata": {
    "id": "JYouZAY4i3jM"
   },
   "outputs": [
    {
     "data": {
      "image/png": "[encoded data removed]",
      "text/plain": [
       "<Figure size 720x360 with 1 Axes>"
      ]
     },
     "metadata": {
      "needs_background": "light"
     },
     "output_type": "display_data"
    }
   ],
   "source": [
    "# plot the results\n",
    "fig = plt.figure(figsize=(10,5))\n",
    "\n",
    "plt.plot(trainAcc,'bs')\n",
    "plt.plot(testAcc,'ro')\n",
    "plt.xlabel('Epochs')\n",
    "plt.ylabel('Accuracy (%)')\n",
    "plt.legend(['Train','Test'])\n",
    "\n",
    "plt.show()"
   ]
  },
  {
   "cell_type": "code",
   "execution_count": null,
   "metadata": {
    "id": "eVXa_1zZkvbm"
   },
   "outputs": [],
   "source": []
  }
 ],
 "metadata": {
  "colab": {
   "authorship_tag": "ABX9TyOBTDJBbZvRh0ehhvC0ofhn",
   "collapsed_sections": [],
   "name": "DUDL_regular_testBatchT2.ipynb",
   "provenance": [
    {
     "file_id": "15mfK6oci_9838ULajZ5JwriIMRFRlhRx",
     "timestamp": 1618576737121
    },
    {
     "file_id": "17KCLWj5_rIPAJqSQ1dJFAkSrJ7ctDwne",
     "timestamp": 1616945891013
    },
    {
     "file_id": "1bv1_y32e3KEExFKKlPfC3rpw1JxmBr8H",
     "timestamp": 1616941708388
    },
    {
     "file_id": "1GMq8u7KyHB2AE7Teyls9gK1T01OduQSn",
     "timestamp": 1616697516760
    },
    {
     "file_id": "1Ui3kyHim-e0XLgDs2mkBxVlYg7TKYtcg",
     "timestamp": 1616615469755
    },
    {
     "file_id": "1YpHocGI4rApOxIBb1ZghCU5L-hFnv4CK",
     "timestamp": 1616608248670
    }
   ]
  },
  "kernelspec": {
   "display_name": "Python 3",
   "name": "python3"
  },
  "language_info": {
   "codemirror_mode": {
    "name": "ipython",
    "version": 3
   },
   "file_extension": ".py",
   "mimetype": "text/x-python",
   "name": "python",
   "nbconvert_exporter": "python",
   "pygments_lexer": "ipython3",
   "version": "3.10.11"
  }
 },
 "nbformat": 4,
 "nbformat_minor": 0
}
